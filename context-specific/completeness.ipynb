{
 "cells": [
  {
   "cell_type": "code",
   "execution_count": 1,
   "id": "4195f40f-6ff9-4001-b67f-ad9d30ad81ac",
   "metadata": {
    "collapsed": true,
    "jupyter": {
     "outputs_hidden": true,
     "source_hidden": true
    }
   },
   "outputs": [
    {
     "name": "stdout",
     "output_type": "stream",
     "text": [
      "Requirement already satisfied: numpy in /home/sjoerd/miniconda3/envs/seamless-exact/lib/python3.10/site-packages (1.24.4)\n",
      "Requirement already satisfied: tqdm in /home/sjoerd/miniconda3/envs/seamless-exact/lib/python3.10/site-packages (4.67.1)\n",
      "Requirement already satisfied: opt_einsum in /home/sjoerd/miniconda3/envs/seamless-exact/lib/python3.10/site-packages (3.4.0)\n",
      "Requirement already satisfied: pandas in /home/sjoerd/miniconda3/envs/seamless-exact/lib/python3.10/site-packages (2.2.3)\n",
      "Requirement already satisfied: seaborn in /home/sjoerd/miniconda3/envs/seamless-exact/lib/python3.10/site-packages (0.13.2)\n",
      "Requirement already satisfied: matplotlib in /home/sjoerd/miniconda3/envs/seamless-exact/lib/python3.10/site-packages (3.10.0)\n",
      "Requirement already satisfied: python-dateutil>=2.8.2 in /home/sjoerd/miniconda3/envs/seamless-exact/lib/python3.10/site-packages (from pandas) (2.9.0.post0)\n",
      "Requirement already satisfied: pytz>=2020.1 in /home/sjoerd/miniconda3/envs/seamless-exact/lib/python3.10/site-packages (from pandas) (2024.1)\n",
      "Requirement already satisfied: tzdata>=2022.7 in /home/sjoerd/miniconda3/envs/seamless-exact/lib/python3.10/site-packages (from pandas) (2024.2)\n",
      "Requirement already satisfied: packaging>=20.0 in /home/sjoerd/miniconda3/envs/seamless-exact/lib/python3.10/site-packages (from matplotlib) (24.2)\n",
      "Requirement already satisfied: pyparsing>=2.3.1 in /home/sjoerd/miniconda3/envs/seamless-exact/lib/python3.10/site-packages (from matplotlib) (3.2.1)\n",
      "Requirement already satisfied: kiwisolver>=1.3.1 in /home/sjoerd/miniconda3/envs/seamless-exact/lib/python3.10/site-packages (from matplotlib) (1.4.8)\n",
      "Requirement already satisfied: pillow>=8 in /home/sjoerd/miniconda3/envs/seamless-exact/lib/python3.10/site-packages (from matplotlib) (11.1.0)\n",
      "Requirement already satisfied: cycler>=0.10 in /home/sjoerd/miniconda3/envs/seamless-exact/lib/python3.10/site-packages (from matplotlib) (0.12.1)\n",
      "Requirement already satisfied: fonttools>=4.22.0 in /home/sjoerd/miniconda3/envs/seamless-exact/lib/python3.10/site-packages (from matplotlib) (4.55.3)\n",
      "Requirement already satisfied: contourpy>=1.0.1 in /home/sjoerd/miniconda3/envs/seamless-exact/lib/python3.10/site-packages (from matplotlib) (1.3.1)\n",
      "Requirement already satisfied: six>=1.5 in /home/sjoerd/miniconda3/envs/seamless-exact/lib/python3.10/site-packages (from python-dateutil>=2.8.2->pandas) (1.17.0)\n",
      "Note: you may need to restart the kernel to use updated packages.\n"
     ]
    }
   ],
   "source": [
    "%pip install numpy tqdm opt_einsum pandas seaborn matplotlib"
   ]
  },
  {
   "cell_type": "code",
   "execution_count": 2,
   "id": "2ae351e9-eec5-4278-be4f-9a304219b858",
   "metadata": {
    "jupyter": {
     "source_hidden": true
    }
   },
   "outputs": [],
   "source": [
    "import os\n",
    "example_clusterfile = \"../output/lib-dinuc-AA-1.0.clust\"\n",
    "if not os.path.exists(example_clusterfile):\n",
    "    os.system(\"../download-library.sh\")"
   ]
  },
  {
   "cell_type": "code",
   "execution_count": 3,
   "id": "b26c13f2-9f94-40a4-af11-b0b8d97374b7",
   "metadata": {},
   "outputs": [],
   "source": [
    "# library: dinuc or trinuc\n",
    "lib = \"dinuc\""
   ]
  },
  {
   "cell_type": "code",
   "execution_count": 4,
   "id": "594fc737-3d04-493b-a2e8-d9e198d0e9dc",
   "metadata": {
    "jupyter": {
     "source_hidden": true
    }
   },
   "outputs": [],
   "source": [
    "from closest_fit import ClosestFit\n",
    "obj = ClosestFit(lib)"
   ]
  },
  {
   "cell_type": "code",
   "execution_count": 5,
   "id": "a77bee24-c8be-4e5e-93ca-a06ced7a5f70",
   "metadata": {},
   "outputs": [],
   "source": [
    "database = \"pfam\"\n",
    "fam_id = \"PF00313\"\n",
    "sample = 0  # set sample=0 to consider all\n",
    "seed = 0"
   ]
  },
  {
   "cell_type": "code",
   "execution_count": 6,
   "id": "e92d00a1-38dd-4b10-91ad-e8abf4f53d9f",
   "metadata": {
    "jupyter": {
     "source_hidden": true
    }
   },
   "outputs": [],
   "source": [
    "completeness = obj.get_completeness(database, fam_id)"
   ]
  },
  {
   "cell_type": "code",
   "execution_count": 7,
   "id": "fbad027c-f9dc-4d30-b6cd-ca40f07452a8",
   "metadata": {
    "jupyter": {
     "source_hidden": true
    }
   },
   "outputs": [
    {
     "name": "stdout",
     "output_type": "stream",
     "text": [
      "Completeness from direct cluster analysis\n",
      "\n",
      "Completeness at 0.5 A: 70.55 %, uncertainty 7.64 %\n",
      "Completeness at 1.0 A: 97.09 %, uncertainty 2.55 %\n",
      "Completeness at 2.0 A: 100.00 %, uncertainty 0.00 %\n"
     ]
    }
   ],
   "source": [
    "print(\"Completeness from direct cluster analysis\")\n",
    "print()\n",
    "for precision in (0.5, 1.0, 2.0):\n",
    "    nfrag = 0\n",
    "    n_complete = 0\n",
    "    n_certain = 0\n",
    "    for k, v in completeness.items():\n",
    "        if k[1] != precision:\n",
    "            continue\n",
    "        v_complete, v_certain = v\n",
    "        assert len(v_complete) == len(v_certain)\n",
    "        nfrag += len(v_complete)\n",
    "        n_complete += v_complete.sum()\n",
    "        n_certain += v_certain.sum()\n",
    "    print(f\"Completeness at {precision} A: {n_complete/nfrag*100:.2f} %, uncertainty {100 - n_certain/nfrag*100:.2f} %\")"
   ]
  },
  {
   "cell_type": "code",
   "execution_count": 8,
   "id": "1b785bf5-7355-42d4-9e2c-7a7d65f41082",
   "metadata": {},
   "outputs": [
    {
     "data": {
      "application/vnd.jupyter.widget-view+json": {
       "model_id": "95ff732b67bf48e1a3e2656200dea5af",
       "version_major": 2,
       "version_minor": 0
      },
      "text/plain": [
       "Iterate over sequence motifs...:   0%|          | 0/4 [00:00<?, ?it/s]"
      ]
     },
     "metadata": {},
     "output_type": "display_data"
    },
    {
     "data": {
      "application/vnd.jupyter.widget-view+json": {
       "model_id": "5f43635455f449c891bf1f73149baef9",
       "version_major": 2,
       "version_minor": 0
      },
      "text/plain": [
       "Find 1.0A bullseye clusters...:   0%|          | 0/13 [00:00<?, ?it/s]"
      ]
     },
     "metadata": {},
     "output_type": "display_data"
    },
    {
     "data": {
      "application/vnd.jupyter.widget-view+json": {
       "model_id": "b75a23161c234ac2afa484fc1920b63d",
       "version_major": 2,
       "version_minor": 0
      },
      "text/plain": [
       "Find 2.0A bullseye clusters...:   0%|          | 0/10 [00:00<?, ?it/s]"
      ]
     },
     "metadata": {},
     "output_type": "display_data"
    },
    {
     "data": {
      "application/vnd.jupyter.widget-view+json": {
       "model_id": "e2c34b6c8c774142aff53a5782ad98fb",
       "version_major": 2,
       "version_minor": 0
      },
      "text/plain": [
       "Search remaining:   0%|          | 0/10 [00:00<?, ?it/s]"
      ]
     },
     "metadata": {},
     "output_type": "display_data"
    },
    {
     "data": {
      "application/vnd.jupyter.widget-view+json": {
       "model_id": "15de1a0a74514684860d1a3069088b9d",
       "version_major": 2,
       "version_minor": 0
      },
      "text/plain": [
       "Find 1.0A bullseye clusters...:   0%|          | 0/11 [00:00<?, ?it/s]"
      ]
     },
     "metadata": {},
     "output_type": "display_data"
    },
    {
     "data": {
      "application/vnd.jupyter.widget-view+json": {
       "model_id": "8aaa9a2f75a040faa738d7948002a7b7",
       "version_major": 2,
       "version_minor": 0
      },
      "text/plain": [
       "Find 2.0A bullseye clusters...:   0%|          | 0/9 [00:00<?, ?it/s]"
      ]
     },
     "metadata": {},
     "output_type": "display_data"
    },
    {
     "data": {
      "application/vnd.jupyter.widget-view+json": {
       "model_id": "f95795b50d2d4ecab92763663e29fc74",
       "version_major": 2,
       "version_minor": 0
      },
      "text/plain": [
       "Search remaining:   0%|          | 0/2 [00:00<?, ?it/s]"
      ]
     },
     "metadata": {},
     "output_type": "display_data"
    },
    {
     "data": {
      "application/vnd.jupyter.widget-view+json": {
       "model_id": "a9de6fa307fb4974b3bd9ad77304bb57",
       "version_major": 2,
       "version_minor": 0
      },
      "text/plain": [
       "Find 1.0A bullseye clusters...:   0%|          | 0/16 [00:00<?, ?it/s]"
      ]
     },
     "metadata": {},
     "output_type": "display_data"
    },
    {
     "data": {
      "application/vnd.jupyter.widget-view+json": {
       "model_id": "f8d3be596089491391d551979dcce0df",
       "version_major": 2,
       "version_minor": 0
      },
      "text/plain": [
       "Find 2.0A bullseye clusters...:   0%|          | 0/15 [00:00<?, ?it/s]"
      ]
     },
     "metadata": {},
     "output_type": "display_data"
    },
    {
     "data": {
      "application/vnd.jupyter.widget-view+json": {
       "model_id": "13371074ec3e403e8d5507cc15da923d",
       "version_major": 2,
       "version_minor": 0
      },
      "text/plain": [
       "Search remaining:   0%|          | 0/7 [00:00<?, ?it/s]"
      ]
     },
     "metadata": {},
     "output_type": "display_data"
    },
    {
     "data": {
      "application/vnd.jupyter.widget-view+json": {
       "model_id": "f2bca07aa1664d3993deb6293ec5bcfe",
       "version_major": 2,
       "version_minor": 0
      },
      "text/plain": [
       "Find 1.0A bullseye clusters...:   0%|          | 0/13 [00:00<?, ?it/s]"
      ]
     },
     "metadata": {},
     "output_type": "display_data"
    },
    {
     "data": {
      "application/vnd.jupyter.widget-view+json": {
       "model_id": "b7e99eeb36774dccb89f75afaa4a5f2f",
       "version_major": 2,
       "version_minor": 0
      },
      "text/plain": [
       "Find 2.0A bullseye clusters...:   0%|          | 0/10 [00:00<?, ?it/s]"
      ]
     },
     "metadata": {},
     "output_type": "display_data"
    },
    {
     "data": {
      "application/vnd.jupyter.widget-view+json": {
       "model_id": "cf353c47f1f74c9f8c2bfa4e1961895d",
       "version_major": 2,
       "version_minor": 0
      },
      "text/plain": [
       "Search remaining:   0%|          | 0/9 [00:00<?, ?it/s]"
      ]
     },
     "metadata": {},
     "output_type": "display_data"
    }
   ],
   "source": [
    "closest_fit = obj.get_closest_fit(database, fam_id, max_sample=sample)"
   ]
  },
  {
   "cell_type": "code",
   "execution_count": 9,
   "id": "9dd47539-0f37-43d0-99c9-a764b7cecfc3",
   "metadata": {
    "jupyter": {
     "source_hidden": true
    }
   },
   "outputs": [],
   "source": [
    "closest_fit_baseline = obj.get_closest_fit_baseline(database, fam_id)"
   ]
  },
  {
   "cell_type": "code",
   "execution_count": 10,
   "id": "008e658e-8312-44f5-a6a3-13c04dc0dfbc",
   "metadata": {
    "jupyter": {
     "source_hidden": true
    }
   },
   "outputs": [],
   "source": [
    "import numpy as np\n",
    "import pandas as pd\n",
    "import seaborn as sns\n",
    "from matplotlib import pyplot as plt\n",
    "\n",
    "data = pd.DataFrame()\n",
    "bins = [0] + np.arange(0.2, 3.1, 0.05).tolist()\n",
    "data.index = bins\n",
    "\n",
    "def to_bins(d):\n",
    "    result = []\n",
    "    for bin in bins:\n",
    "        fail = (d >= bin).sum() / len(d)\n",
    "        result.append(fail)\n",
    "    return result\n",
    "\n",
    "baseline = np.concatenate(list(closest_fit_baseline.values()))\n",
    "data[\"baseline\"] = to_bins(baseline)\n",
    "\n",
    "from_non_family = np.concatenate(list(closest_fit.values()))\n",
    "data[\"from non-family\"] = to_bins(from_non_family)\n"
   ]
  },
  {
   "cell_type": "code",
   "execution_count": 11,
   "id": "5e82d8cc-5d00-423c-96b7-e1bc03758c84",
   "metadata": {
    "jupyter": {
     "source_hidden": true
    }
   },
   "outputs": [
    {
     "data": {
      "image/png": "[encoded data removed]",
      "text/plain": [
       "<Figure size 1000x1000 with 2 Axes>"
      ]
     },
     "metadata": {},
     "output_type": "display_data"
    }
   ],
   "source": [
    "fig, axes = plt.subplots(2,1, figsize=(10, 10))\n",
    "sns.lineplot(data, ax=axes[0])\n",
    "sns.lineplot(data, ax=axes[1])\n",
    "\n",
    "axes[0].set_ybound(0, 1)\n",
    "\n",
    "axes[1].set_yscale(\"log\")\n",
    "axes[1].set_ybound(0.00001, 1)\n"
   ]
  },
  {
   "cell_type": "code",
   "execution_count": 13,
   "id": "c379be6c-74e5-48f7-b7cc-e9d170fe2ed9",
   "metadata": {
    "jupyter": {
     "source_hidden": true
    }
   },
   "outputs": [
    {
     "name": "stdout",
     "output_type": "stream",
     "text": [
      "Completeless from multi-resolution closest fit\n",
      "\n",
      "Completeness at 0.5 A: 70.18 %\n",
      "Completeness at 1.0 A: 97.45 %\n",
      "Completeness at 2.0 A: 100.00 %\n"
     ]
    }
   ],
   "source": [
    "print(\"Completeless from multi-resolution closest fit\")\n",
    "print()\n",
    "for precision in (0.5, 1.0, 2.0):\n",
    "    nfrag = 0\n",
    "    n_complete = 0\n",
    "    for k, v in closest_fit.items():\n",
    "        nfrag += len(v)\n",
    "        n_complete += (v < precision).sum()\n",
    "    print(f\"Completeness at {precision} A: {n_complete/nfrag*100:.2f} %\")"
   ]
  }
 ],
 "metadata": {
  "kernelspec": {
   "display_name": "Python 3 (ipykernel)",
   "language": "python",
   "name": "python3"
  },
  "language_info": {
   "codemirror_mode": {
    "name": "ipython",
    "version": 3
   },
   "file_extension": ".py",
   "mimetype": "text/x-python",
   "name": "python",
   "nbconvert_exporter": "python",
   "pygments_lexer": "ipython3",
   "version": "3.10.16"
  }
 },
 "nbformat": 4,
 "nbformat_minor": 5
}
