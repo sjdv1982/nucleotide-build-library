{
 "cells": [
  {
   "cell_type": "markdown",
   "id": "def937bd-65ff-4a06-97f5-6266363cc552",
   "metadata": {},
   "source": [
    "# Closest fit calculation comparison: brute force vs using clustering\n",
    "\n",
    "This notebook compares the \"closest fit\" calculation between two different methods:  brute force, and using clustering.\n",
    "\n",
    "## Definition: non-redundant nucleotide fragments\n",
    "\n",
    "This calculation operates on the *non-redundant nucleotide fragments*, after 0.2 A clustering, e.g.\n",
    "`./nucleotide-fragments/dinuc/AA.npy`. In the `.../origin/` subfolder, each fragment is annotated with a set of (one or more) origin PDB codes. From now on, these are simply called \"fragments\".\n",
    "\n",
    "## Definition: closest fit calculation\n",
    "\n",
    "For each fragment F, we try to find fragment FC, which is defined as the *closest-fitting fragment*: the fragment with the lowest RMSD from F. As an additional constraint, F and FC must come from different PDBs. Formally, either the origin set of F must have more than one member, or the origin set of FC must have at least one member that is not in the origin set of F.\n",
    "\n",
    "The brute force approach to do this is: consider all candidate fragments that fulfill the origin criterion, calculate the superposition RMSD between F and all those candidates, and take the lowest one.\n"
   ]
  },
  {
   "cell_type": "markdown",
   "id": "cd106a3c-b131-4992-89a6-4815abe70146",
   "metadata": {},
   "source": [
    "# Verify if the initial calculation has been done already"
   ]
  },
  {
   "cell_type": "code",
   "execution_count": 1,
   "id": "e6f76953-a33e-4acb-8001-a074b66bb4ae",
   "metadata": {
    "jupyter": {
     "source_hidden": true
    }
   },
   "outputs": [
    {
     "name": "stdout",
     "output_type": "stream",
     "text": [
      "Brute force calculation has been done\n",
      "Cluster-based calculation has been done\n"
     ]
    }
   ],
   "source": [
    "import os\n",
    "\n",
    "dinuc_motifs = [\"AA\", \"AC\", \"CA\", \"CC\"]\n",
    "trinuc_motifs = [\"AAA\", \"AAC\", \"ACA\", \"ACC\", \"CAA\", \"CAC\", \"CCA\", \"CCC\"]\n",
    "\n",
    "ok = True\n",
    "for lib, motifs in ((\"dinuc\", dinuc_motifs), (\"trinuc\", trinuc_motifs)):\n",
    "    for motif in motifs:\n",
    "        filename = f\"nucleotide-fragments/closest-fit/{lib}-{motif}.txt\"\n",
    "        if not os.path.exists(filename):\n",
    "            print(f\"Brute force calculation not done: missing file '{filename}'\")\n",
    "            ok = False\n",
    "            break\n",
    "    if not ok:\n",
    "        break\n",
    "if ok:\n",
    "    print(\"Brute force calculation has been done\")\n",
    "\n",
    "ok = True\n",
    "for lib, motifs in ((\"dinuc\", dinuc_motifs), (\"trinuc\", trinuc_motifs)):\n",
    "    for motif in motifs:\n",
    "        filename = f\"output/closest-fit/{lib}-{motif}.txt\"\n",
    "        if not os.path.exists(filename):\n",
    "            print(f\"Cluster-based calculation not done: missing file '{filename}'\")\n",
    "            ok = False\n",
    "            break\n",
    "    if not ok:\n",
    "        break\n",
    "if ok:\n",
    "    print(\"Cluster-based calculation has been done\")    "
   ]
  },
  {
   "cell_type": "markdown",
   "id": "312b9728-390e-444b-b8b8-86df216e20ae",
   "metadata": {},
   "source": [
    "# Instructions how to run the initial calculation yourself\n",
    "\n",
    "If the closest fit calculation has not been previously computed, this is how to do it\n",
    "\n",
    "## Instruction: brute force calculation\n",
    "\n",
    "Brute force closest-fit calculation is done in the `nucleotide-fragments` repo, a submodule of the current repo.\n",
    "\n",
    "The scripts are included in the repo, but their results (the `nucleotide-fragemnts/closest-fit` subfolder) are not. \n",
    "\n",
    "You can calculate the results yourself by running the following scripts:\n",
    "\n",
    "- `python closest-fit.py $lib $motif $chunk`, where:\n",
    "\n",
    "  - `$lib` is \"dinuc\" or \"trinuc\"\n",
    "  - `$motif` is every combination of A and C of the proper length,\n",
    "    e.g. `CA` for a dinuc and `AAC` for a trinuc.\n",
    "  - `$chunk` goes from 1 to 100\n",
    "\n",
    "  An output file is generated in `closest-fit`\n",
    "\n",
    "  For one particular value of `lib` `motif` `chunk`, the script takes three or four minutes on 8 cores. The whole computation is in the order of 500 CPU hours.\n",
    "\n",
    "- `closest-fit-combine.sh` . This takes all output files for all `lib` `motif` `chunk` combinations, and generates one output file per motif: e.g. `closest-fit/dinuc-AA.txt`, `closest-fit/trinuc-CCC.txt`. This script runs instantly.\n",
    "\n",
    "## Instruction: clustering-based calculation\n",
    "\n",
    "Clustering-based closest-fit calculation is done in the current repo.\n",
    "\n",
    "The scripts are included in the repo, but their results (`output/closest-fit/`) are not.\n",
    "\n",
    "The script to run is `closest-fit.sh`, which does 12 invocations of `closest-fit.py`,\n",
    "each generating one of the files in `output/closest-fit/`. Each invocation takes about 1 hour on 8 cores.\n"
   ]
  },
  {
   "cell_type": "markdown",
   "id": "4786ec37-f279-469c-ba68-4d61add9a42c",
   "metadata": {},
   "source": [
    "# Definition of the clustering-based method\n",
    "\n",
    "For each fragment F, we try to identify one or more \"bullseye\" clusters where the closest-fitting fragment FC must surely be a member of. \n",
    "\n",
    "If successful, this provides us with a list of candidates for FC. Alternatively, if we can't find a bullseye cluster, we must build this list from multiple clusters. \n",
    "\n",
    "Finally, we calculate the RMSD of F towards every candidate, selecting the lowest.\n",
    "\n",
    "## Identifying bullseye clusters\n",
    "\n",
    "\n",
    "Bullseye clusters have the following properties:\n",
    "\n",
    "- At least one of the members has a different PDB origin than F\n",
    "- They satisfy the inequality X <= R, where:\n",
    "\n",
    "  - X is the distance between the cluster heart and FC\n",
    "  - R is the cluster radius\n",
    "\n",
    "For each cluster, we try to prove that X <= R by exploiting the triangle inequality X <= Y + Z, where:\n",
    "\n",
    "  - Y is the RMSD of the cluster heart to the fragment F\n",
    "  - Z is the RMSD of the fragment F to FC\n",
    "\n",
    "For each cluster, we compute Y. \n",
    "\n",
    "We don't know Z, but the computation of Y gives us an upper bound ZZ, which may get lower and lower while we search among the clusters.\n",
    "\n",
    "We search first among R=2A clusters, and if it fails, among R=1A clusters. We search first the cluster that is closest in RMSD, then the other clusters.\n",
    "\n",
    "We consider the search complete if we find at least one a bullseye cluster that is *small*, i.e. 50 members or less. While we search, we store all large bullseye clusters, as well as the computed values of Y for all small clusters. Whenever ZZ gets updated, we recompute Y + ZZ for all stored small clusters, in search of a hit where the result is smaller than R.\n",
    "\n",
    "If we can't find any small bullseye cluster, we try once more to reduce ZZ by fitting on the first 50 members of every large bullseye cluster.\n",
    "\n",
    "Once the search has terminated, if at least one bullseye cluster has been found, a candidate list is returned, consisting of the fragments that are part of *all* bullseye clusters (large and small), i.e. the intersection of the bullseye cluster members.\n",
    "\n",
    "## Building a filtered list of candidates from multiple clusters\n",
    "\n",
    "If no candidate list is returned by the bullseye cluster search, we must build a candidate list from multiple clusters. This is done as follows.\n",
    "\n",
    "Initially, the candidate list contains all other fragments from a different PDB (which would be a brute force search).\n",
    "\n",
    "We then consider all big 1A and 2A clusters (with at least 20 members), and try to eliminate their members.\n",
    "\n",
    "To do so, first we get an upper estimate ZZ for Z (the RMSD between F and FC) by calculating Y, the RMSD towards the cluster heart of every big cluster, and taking the smallest value. If F is a member of one or more small 1A clusters, their cluster hearts are also considered for ZZ.\n",
    "\n",
    "We then filter out in bulk all big 1A (i.e. R=1) clusters where Y > ZZ + R.\n",
    "\n",
    "Finally, for each big 2A cluster, we look for clusters where the heart is much farther than ZZ. In that case, we can eliminate all members that are too close to the cluster heart. Formally, we eliminate from each 2A cluster all members for which Q < Y - ZZ, where Q is the RMSD of the member towards the cluster heart, a quantity that we have pre-computed.\n"
   ]
  },
  {
   "cell_type": "markdown",
   "id": "8ab81b20-1e16-49bc-865c-902a751470d6",
   "metadata": {},
   "source": [
    "# Comparison of the two closest-fit methods"
   ]
  },
  {
   "cell_type": "code",
   "execution_count": 2,
   "id": "7b4d35e4-40e4-484b-94c3-f89c2f3c37f1",
   "metadata": {
    "jupyter": {
     "source_hidden": true
    }
   },
   "outputs": [
    {
     "name": "stdout",
     "output_type": "stream",
     "text": [
      "Library dinuc: no differences\n",
      "Library trinuc, motif CCC: 1 differences\n"
     ]
    }
   ],
   "source": [
    "import os\n",
    "import numpy as np\n",
    "\n",
    "dinuc_motifs = [\"AA\", \"AC\", \"CA\", \"CC\"]\n",
    "trinuc_motifs = [\"AAA\", \"AAC\", \"ACA\", \"ACC\", \"CAA\", \"CAC\", \"CCA\", \"CCC\"]\n",
    "\n",
    "for lib, motifs in ((\"dinuc\", dinuc_motifs), (\"trinuc\", trinuc_motifs)):\n",
    "    nfrags = 0\n",
    "    any_different = False\n",
    "    for motif in motifs:\n",
    "        filename1 = f\"nucleotide-fragments/closest-fit/{lib}-{motif}.txt\"\n",
    "        data1 = np.loadtxt(filename1)\n",
    "        if data1.ndim != 2 or data1.shape[1] != 2:\n",
    "            raise RuntimeError(f\"Format error in file '{filename1}'\")\n",
    "        filename2 = f\"output/closest-fit/{lib}-{motif}.txt\"\n",
    "        data2 = np.loadtxt(filename2)\n",
    "        if data2.ndim != 2 or data2.shape[1] != 2:\n",
    "            raise RuntimeError(f\"Format error in file '{filename2}'\")\n",
    "        if len(data1) != len(data2):\n",
    "            raise RuntimeError(f\"Library {lib} motif {motif}: mismatch in number of fragments\")\n",
    "        nfrags += len(data1)\n",
    "        different = (np.isclose(data1, data2, atol=1e-03).sum(axis=1) < 2)\n",
    "        ndifferent = different.sum()\n",
    "        if ndifferent:\n",
    "            print(f\"Library {lib}, motif {motif}: {ndifferent} differences\")\n",
    "            any_different = True\n",
    "    if not any_different:\n",
    "        print(f\"Library {lib}: no differences\")"
   ]
  }
 ],
 "metadata": {
  "kernelspec": {
   "display_name": "Python 3 (ipykernel)",
   "language": "python",
   "name": "python3"
  },
  "language_info": {
   "codemirror_mode": {
    "name": "ipython",
    "version": 3
   },
   "file_extension": ".py",
   "mimetype": "text/x-python",
   "name": "python",
   "nbconvert_exporter": "python",
   "pygments_lexer": "ipython3",
   "version": "3.10.16"
  }
 },
 "nbformat": 4,
 "nbformat_minor": 5
}
